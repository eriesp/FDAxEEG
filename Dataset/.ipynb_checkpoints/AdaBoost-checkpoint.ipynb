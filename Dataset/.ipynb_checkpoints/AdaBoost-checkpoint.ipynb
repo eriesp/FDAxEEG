{
 "cells": [
  {
   "cell_type": "markdown",
   "metadata": {},
   "source": [
    "# AdaBoost classification"
   ]
  },
  {
   "cell_type": "code",
   "execution_count": 1,
   "metadata": {},
   "outputs": [],
   "source": [
    "import numpy as np\n",
    "import pandas as pd\n",
    "import matplotlib.pyplot as plt\n",
    "import os\n",
    "import seaborn\n",
    "\n",
    "# Preprocessing\n",
    "from sklearn.preprocessing import StandardScaler\n",
    "\n",
    "# Evaluation Procedures\n",
    "from sklearn.model_selection import train_test_split\n",
    "from sklearn.model_selection import cross_val_score\n",
    "from sklearn.model_selection import StratifiedKFold\n",
    "\n",
    "# Classification methods\n",
    "\n",
    "from sklearn.tree import DecisionTreeClassifier\n",
    "from sklearn.ensemble import AdaBoostClassifier\n",
    "\n",
    "\n",
    "# Evaluation Metrics\n",
    "from sklearn.metrics import precision_score\n",
    "from sklearn.metrics import recall_score\n",
    "from sklearn.metrics import confusion_matrix\n",
    "from sklearn.metrics import precision_recall_curve\n",
    "from sklearn.metrics import average_precision_score\n",
    "from sklearn.metrics import precision_score\n",
    "from sklearn.metrics import recall_score\n",
    "from sklearn.metrics import accuracy_score\n",
    "from sklearn.metrics import roc_curve\n",
    "from sklearn.metrics import roc_auc_score\n",
    "from sklearn.metrics import f1_score\n"
   ]
  },
  {
   "cell_type": "code",
   "execution_count": 5,
   "metadata": {},
   "outputs": [
    {
     "data": {
      "text/plain": [
       "'c:\\\\Users\\\\User\\\\OneDrive\\\\Documenti\\\\Uni_nuovo\\\\Necst\\\\NL2project\\\\FDAxEEG\\\\Dataset'"
      ]
     },
     "execution_count": 5,
     "metadata": {},
     "output_type": "execute_result"
    }
   ],
   "source": [
    "home_path = os.path.abspath(os.getcwd())\n",
    "home_path"
   ]
  },
  {
   "cell_type": "code",
   "execution_count": 6,
   "metadata": {},
   "outputs": [],
   "source": [
    "colnames = ['int_z1_b0', 'int_z1_b1', 'int_z1_b2', 'int_z1_b3', \n",
    "            'int_z3_b4', 'int_z4_b4', 'int_z5_b4', 'int_z6_b0', \n",
    "            'int_z6_b1', 'int_z6_b2', 'int_z1_b3',\n",
    "            'norm_z0_b3', 'norm_z1_b0', 'norm_z1_b1', 'norm_z1_b2',\n",
    "            'norm_z1_b3', 'norm_z3_b4', 'norm_z4_b0', 'norm_z4_b4',\n",
    "            'norm_z6_b0', 'norm_z6_b1', 'norm_z6_b2', 'norm_z6_b3',\n",
    "            'pic_z0_b3', 'pic_z1_b2', 'pic_z1_b3', 'pic_z3_b4',\n",
    "            'pic_z4_b4', 'pic_z5_b4', 'pic_z6_b0', 'pic_z6_b1',\n",
    "            'pic_z6_b2', 'pic_z6_b3' ]\n"
   ]
  },
  {
   "cell_type": "code",
   "execution_count": 7,
   "metadata": {},
   "outputs": [],
   "source": [
    "# creating the vector of the labels\n",
    "y = np.append(np.ones((555, 1), dtype=int),np.zeros((427, 1), dtype=int))"
   ]
  },
  {
   "cell_type": "markdown",
   "metadata": {},
   "source": [
    "### Qui  crea dataframes"
   ]
  },
  {
   "cell_type": "code",
   "execution_count": 8,
   "metadata": {},
   "outputs": [
    {
     "data": {
      "text/plain": [
       "(982, 11)"
      ]
     },
     "execution_count": 8,
     "metadata": {},
     "output_type": "execute_result"
    }
   ],
   "source": [
    "# concatenating dataframe degli integrali delle derivate\n",
    "int_adhd = pd.read_csv(home_path+'\\Feat_int_adhd.csv', sep = ',')\n",
    "int_cont = pd.read_csv(home_path+'\\Feat_int_cont.csv', sep = ',')\n",
    "\n",
    "df_int = pd.concat([int_adhd, int_cont])\n",
    "df_int.shape"
   ]
  },
  {
   "cell_type": "code",
   "execution_count": 9,
   "metadata": {},
   "outputs": [
    {
     "data": {
      "text/plain": [
       "(982, 12)"
      ]
     },
     "execution_count": 9,
     "metadata": {},
     "output_type": "execute_result"
    }
   ],
   "source": [
    "# concatenating dataframe delle norme\n",
    "norm_adhd = pd.read_csv(home_path+'\\Feat_norm_adhd.csv', sep = ',')\n",
    "norm_cont = pd.read_csv(home_path+'\\Feat_norm_cont.csv', sep = ',')\n",
    "\n",
    "df_norm = pd.concat([norm_adhd, norm_cont])\n",
    "df_norm.shape"
   ]
  },
  {
   "cell_type": "code",
   "execution_count": 10,
   "metadata": {},
   "outputs": [
    {
     "data": {
      "text/plain": [
       "(982, 10)"
      ]
     },
     "execution_count": 10,
     "metadata": {},
     "output_type": "execute_result"
    }
   ],
   "source": [
    "# concatenating dataframe dei picchi\n",
    "picco_adhd = pd.read_csv(home_path+'\\Feat_picco_adhd.csv', sep = ',')\n",
    "picco_cont = pd.read_csv(home_path+'\\Feat_picco_cont.csv', sep = ',')\n",
    "\n",
    "df_picco = pd.concat([picco_adhd, picco_cont])\n",
    "df_picco.shape"
   ]
  },
  {
   "cell_type": "code",
   "execution_count": 11,
   "metadata": {},
   "outputs": [
    {
     "data": {
      "text/plain": [
       "(982, 33)"
      ]
     },
     "execution_count": 11,
     "metadata": {},
     "output_type": "execute_result"
    }
   ],
   "source": [
    "# concatenating the three daframes along the columns\n",
    "\n",
    "df = pd.concat([df_int, df_norm, df_picco], axis=1)\n",
    "df.shape"
   ]
  },
  {
   "cell_type": "code",
   "execution_count": 12,
   "metadata": {},
   "outputs": [
    {
     "data": {
      "text/html": [
       "<div>\n",
       "<style scoped>\n",
       "    .dataframe tbody tr th:only-of-type {\n",
       "        vertical-align: middle;\n",
       "    }\n",
       "\n",
       "    .dataframe tbody tr th {\n",
       "        vertical-align: top;\n",
       "    }\n",
       "\n",
       "    .dataframe thead th {\n",
       "        text-align: right;\n",
       "    }\n",
       "</style>\n",
       "<table border=\"1\" class=\"dataframe\">\n",
       "  <thead>\n",
       "    <tr style=\"text-align: right;\">\n",
       "      <th></th>\n",
       "      <th>int_z1_b0</th>\n",
       "      <th>int_z1_b1</th>\n",
       "      <th>int_z1_b2</th>\n",
       "      <th>int_z1_b3</th>\n",
       "      <th>int_z3_b4</th>\n",
       "      <th>int_z4_b4</th>\n",
       "      <th>int_z5_b4</th>\n",
       "      <th>int_z6_b0</th>\n",
       "      <th>int_z6_b1</th>\n",
       "      <th>int_z6_b2</th>\n",
       "      <th>...</th>\n",
       "      <th>pic_z0_b3</th>\n",
       "      <th>pic_z1_b2</th>\n",
       "      <th>pic_z1_b3</th>\n",
       "      <th>pic_z3_b4</th>\n",
       "      <th>pic_z4_b4</th>\n",
       "      <th>pic_z5_b4</th>\n",
       "      <th>pic_z6_b0</th>\n",
       "      <th>pic_z6_b1</th>\n",
       "      <th>pic_z6_b2</th>\n",
       "      <th>pic_z6_b3</th>\n",
       "    </tr>\n",
       "  </thead>\n",
       "  <tbody>\n",
       "    <tr>\n",
       "      <th>0</th>\n",
       "      <td>21.968998</td>\n",
       "      <td>190.785059</td>\n",
       "      <td>927.151960</td>\n",
       "      <td>2501.529995</td>\n",
       "      <td>6377.752911</td>\n",
       "      <td>7350.304875</td>\n",
       "      <td>19461.824368</td>\n",
       "      <td>24.198602</td>\n",
       "      <td>129.886119</td>\n",
       "      <td>751.636155</td>\n",
       "      <td>...</td>\n",
       "      <td>818.055908</td>\n",
       "      <td>368.676758</td>\n",
       "      <td>1262.890259</td>\n",
       "      <td>5884.943848</td>\n",
       "      <td>7414.490723</td>\n",
       "      <td>18736.572266</td>\n",
       "      <td>11.715752</td>\n",
       "      <td>58.981052</td>\n",
       "      <td>309.610992</td>\n",
       "      <td>882.263916</td>\n",
       "    </tr>\n",
       "    <tr>\n",
       "      <th>1</th>\n",
       "      <td>20.174632</td>\n",
       "      <td>167.368626</td>\n",
       "      <td>753.313695</td>\n",
       "      <td>1584.194779</td>\n",
       "      <td>3668.469256</td>\n",
       "      <td>3375.189621</td>\n",
       "      <td>10150.997673</td>\n",
       "      <td>49.278778</td>\n",
       "      <td>222.241724</td>\n",
       "      <td>1060.458811</td>\n",
       "      <td>...</td>\n",
       "      <td>497.234131</td>\n",
       "      <td>254.854523</td>\n",
       "      <td>697.317871</td>\n",
       "      <td>3458.279297</td>\n",
       "      <td>3131.913818</td>\n",
       "      <td>10127.041016</td>\n",
       "      <td>14.928400</td>\n",
       "      <td>84.580544</td>\n",
       "      <td>423.909363</td>\n",
       "      <td>702.180603</td>\n",
       "    </tr>\n",
       "    <tr>\n",
       "      <th>2</th>\n",
       "      <td>18.676125</td>\n",
       "      <td>146.562516</td>\n",
       "      <td>819.394027</td>\n",
       "      <td>1317.382080</td>\n",
       "      <td>2429.409135</td>\n",
       "      <td>1707.388859</td>\n",
       "      <td>3808.516577</td>\n",
       "      <td>27.224983</td>\n",
       "      <td>211.900858</td>\n",
       "      <td>918.530408</td>\n",
       "      <td>...</td>\n",
       "      <td>426.164581</td>\n",
       "      <td>292.136841</td>\n",
       "      <td>599.598999</td>\n",
       "      <td>2358.657715</td>\n",
       "      <td>1672.325684</td>\n",
       "      <td>3500.131104</td>\n",
       "      <td>8.690989</td>\n",
       "      <td>80.464485</td>\n",
       "      <td>348.549347</td>\n",
       "      <td>674.208740</td>\n",
       "    </tr>\n",
       "    <tr>\n",
       "      <th>3</th>\n",
       "      <td>27.023251</td>\n",
       "      <td>134.220324</td>\n",
       "      <td>853.109891</td>\n",
       "      <td>1251.061716</td>\n",
       "      <td>2525.060220</td>\n",
       "      <td>1205.401089</td>\n",
       "      <td>1593.005146</td>\n",
       "      <td>29.762903</td>\n",
       "      <td>181.486521</td>\n",
       "      <td>1103.128694</td>\n",
       "      <td>...</td>\n",
       "      <td>579.769653</td>\n",
       "      <td>300.478455</td>\n",
       "      <td>610.236328</td>\n",
       "      <td>2198.085449</td>\n",
       "      <td>855.345947</td>\n",
       "      <td>1274.186890</td>\n",
       "      <td>11.514561</td>\n",
       "      <td>80.033195</td>\n",
       "      <td>423.814484</td>\n",
       "      <td>806.424622</td>\n",
       "    </tr>\n",
       "    <tr>\n",
       "      <th>4</th>\n",
       "      <td>38.532633</td>\n",
       "      <td>174.662249</td>\n",
       "      <td>918.740565</td>\n",
       "      <td>1327.294711</td>\n",
       "      <td>3631.285934</td>\n",
       "      <td>1706.316409</td>\n",
       "      <td>1830.648868</td>\n",
       "      <td>47.566680</td>\n",
       "      <td>185.767107</td>\n",
       "      <td>1339.031987</td>\n",
       "      <td>...</td>\n",
       "      <td>396.156830</td>\n",
       "      <td>342.757507</td>\n",
       "      <td>585.753784</td>\n",
       "      <td>3440.830078</td>\n",
       "      <td>1607.414795</td>\n",
       "      <td>1430.056519</td>\n",
       "      <td>16.043320</td>\n",
       "      <td>65.653732</td>\n",
       "      <td>521.064697</td>\n",
       "      <td>721.823975</td>\n",
       "    </tr>\n",
       "  </tbody>\n",
       "</table>\n",
       "<p>5 rows × 33 columns</p>\n",
       "</div>"
      ],
      "text/plain": [
       "   int_z1_b0   int_z1_b1   int_z1_b2    int_z1_b3    int_z3_b4    int_z4_b4  \\\n",
       "0  21.968998  190.785059  927.151960  2501.529995  6377.752911  7350.304875   \n",
       "1  20.174632  167.368626  753.313695  1584.194779  3668.469256  3375.189621   \n",
       "2  18.676125  146.562516  819.394027  1317.382080  2429.409135  1707.388859   \n",
       "3  27.023251  134.220324  853.109891  1251.061716  2525.060220  1205.401089   \n",
       "4  38.532633  174.662249  918.740565  1327.294711  3631.285934  1706.316409   \n",
       "\n",
       "      int_z5_b4  int_z6_b0   int_z6_b1    int_z6_b2  ...   pic_z0_b3  \\\n",
       "0  19461.824368  24.198602  129.886119   751.636155  ...  818.055908   \n",
       "1  10150.997673  49.278778  222.241724  1060.458811  ...  497.234131   \n",
       "2   3808.516577  27.224983  211.900858   918.530408  ...  426.164581   \n",
       "3   1593.005146  29.762903  181.486521  1103.128694  ...  579.769653   \n",
       "4   1830.648868  47.566680  185.767107  1339.031987  ...  396.156830   \n",
       "\n",
       "    pic_z1_b2    pic_z1_b3    pic_z3_b4    pic_z4_b4     pic_z5_b4  pic_z6_b0  \\\n",
       "0  368.676758  1262.890259  5884.943848  7414.490723  18736.572266  11.715752   \n",
       "1  254.854523   697.317871  3458.279297  3131.913818  10127.041016  14.928400   \n",
       "2  292.136841   599.598999  2358.657715  1672.325684   3500.131104   8.690989   \n",
       "3  300.478455   610.236328  2198.085449   855.345947   1274.186890  11.514561   \n",
       "4  342.757507   585.753784  3440.830078  1607.414795   1430.056519  16.043320   \n",
       "\n",
       "   pic_z6_b1   pic_z6_b2   pic_z6_b3  \n",
       "0  58.981052  309.610992  882.263916  \n",
       "1  84.580544  423.909363  702.180603  \n",
       "2  80.464485  348.549347  674.208740  \n",
       "3  80.033195  423.814484  806.424622  \n",
       "4  65.653732  521.064697  721.823975  \n",
       "\n",
       "[5 rows x 33 columns]"
      ]
     },
     "execution_count": 12,
     "metadata": {},
     "output_type": "execute_result"
    }
   ],
   "source": [
    "df.columns = colnames\n",
    "df.head()"
   ]
  },
  {
   "cell_type": "code",
   "execution_count": 13,
   "metadata": {},
   "outputs": [],
   "source": [
    "df.to_csv(home_path+'\\df_complete.csv', index = False, sep = ',')"
   ]
  },
  {
   "cell_type": "markdown",
   "metadata": {},
   "source": [
    "### Qui carico dataframe già fatto"
   ]
  },
  {
   "cell_type": "code",
   "execution_count": 15,
   "metadata": {},
   "outputs": [],
   "source": [
    "df = pd.read_csv(home_path+'\\df_complete.csv', sep = ',')"
   ]
  },
  {
   "cell_type": "code",
   "execution_count": null,
   "metadata": {},
   "outputs": [],
   "source": [
    "# volevo fare un pairplot ma non mi funzia\n",
    "seaborn.pairplot(data = df.iloc[:,0:11], hue = y)"
   ]
  },
  {
   "cell_type": "markdown",
   "metadata": {},
   "source": [
    "## Classification"
   ]
  },
  {
   "cell_type": "code",
   "execution_count": 16,
   "metadata": {},
   "outputs": [],
   "source": [
    "np.random.seed(1234)\n",
    "\n",
    "X_train, X_test, y_train, y_test = train_test_split(df, y,\n",
    "    test_size= 1/4.0, random_state =1234, shuffle=True)\n",
    "\n",
    "crossvalidation = StratifiedKFold(n_splits=10, shuffle=True)"
   ]
  },
  {
   "cell_type": "code",
   "execution_count": 17,
   "metadata": {},
   "outputs": [
    {
     "data": {
      "text/plain": [
       "33"
      ]
     },
     "execution_count": 17,
     "metadata": {},
     "output_type": "execute_result"
    }
   ],
   "source": [
    "n_estimators = df.shape[1]\n",
    "n_estimators"
   ]
  },
  {
   "cell_type": "code",
   "execution_count": 18,
   "metadata": {},
   "outputs": [
    {
     "data": {
      "text/plain": [
       "(0.8493197278911564, 0.03524399714771135)"
      ]
     },
     "execution_count": 18,
     "metadata": {},
     "output_type": "execute_result"
    }
   ],
   "source": [
    "method = AdaBoostClassifier(DecisionTreeClassifier(max_depth=3),\n",
    "    n_estimators=n_estimators)\n",
    "\n",
    "xval_score = cross_val_score(method, df, y, cv = crossvalidation)\n",
    "\n",
    "accuracy_mean = np.average(xval_score)\n",
    "accuracy_sd = np.std(xval_score)\n",
    "\n",
    "accuracy_mean, accuracy_sd"
   ]
  },
  {
   "cell_type": "code",
   "execution_count": 19,
   "metadata": {},
   "outputs": [
    {
     "data": {
      "text/html": [
       "<style>#sk-container-id-1 {color: black;background-color: white;}#sk-container-id-1 pre{padding: 0;}#sk-container-id-1 div.sk-toggleable {background-color: white;}#sk-container-id-1 label.sk-toggleable__label {cursor: pointer;display: block;width: 100%;margin-bottom: 0;padding: 0.3em;box-sizing: border-box;text-align: center;}#sk-container-id-1 label.sk-toggleable__label-arrow:before {content: \"▸\";float: left;margin-right: 0.25em;color: #696969;}#sk-container-id-1 label.sk-toggleable__label-arrow:hover:before {color: black;}#sk-container-id-1 div.sk-estimator:hover label.sk-toggleable__label-arrow:before {color: black;}#sk-container-id-1 div.sk-toggleable__content {max-height: 0;max-width: 0;overflow: hidden;text-align: left;background-color: #f0f8ff;}#sk-container-id-1 div.sk-toggleable__content pre {margin: 0.2em;color: black;border-radius: 0.25em;background-color: #f0f8ff;}#sk-container-id-1 input.sk-toggleable__control:checked~div.sk-toggleable__content {max-height: 200px;max-width: 100%;overflow: auto;}#sk-container-id-1 input.sk-toggleable__control:checked~label.sk-toggleable__label-arrow:before {content: \"▾\";}#sk-container-id-1 div.sk-estimator input.sk-toggleable__control:checked~label.sk-toggleable__label {background-color: #d4ebff;}#sk-container-id-1 div.sk-label input.sk-toggleable__control:checked~label.sk-toggleable__label {background-color: #d4ebff;}#sk-container-id-1 input.sk-hidden--visually {border: 0;clip: rect(1px 1px 1px 1px);clip: rect(1px, 1px, 1px, 1px);height: 1px;margin: -1px;overflow: hidden;padding: 0;position: absolute;width: 1px;}#sk-container-id-1 div.sk-estimator {font-family: monospace;background-color: #f0f8ff;border: 1px dotted black;border-radius: 0.25em;box-sizing: border-box;margin-bottom: 0.5em;}#sk-container-id-1 div.sk-estimator:hover {background-color: #d4ebff;}#sk-container-id-1 div.sk-parallel-item::after {content: \"\";width: 100%;border-bottom: 1px solid gray;flex-grow: 1;}#sk-container-id-1 div.sk-label:hover label.sk-toggleable__label {background-color: #d4ebff;}#sk-container-id-1 div.sk-serial::before {content: \"\";position: absolute;border-left: 1px solid gray;box-sizing: border-box;top: 0;bottom: 0;left: 50%;z-index: 0;}#sk-container-id-1 div.sk-serial {display: flex;flex-direction: column;align-items: center;background-color: white;padding-right: 0.2em;padding-left: 0.2em;position: relative;}#sk-container-id-1 div.sk-item {position: relative;z-index: 1;}#sk-container-id-1 div.sk-parallel {display: flex;align-items: stretch;justify-content: center;background-color: white;position: relative;}#sk-container-id-1 div.sk-item::before, #sk-container-id-1 div.sk-parallel-item::before {content: \"\";position: absolute;border-left: 1px solid gray;box-sizing: border-box;top: 0;bottom: 0;left: 50%;z-index: -1;}#sk-container-id-1 div.sk-parallel-item {display: flex;flex-direction: column;z-index: 1;position: relative;background-color: white;}#sk-container-id-1 div.sk-parallel-item:first-child::after {align-self: flex-end;width: 50%;}#sk-container-id-1 div.sk-parallel-item:last-child::after {align-self: flex-start;width: 50%;}#sk-container-id-1 div.sk-parallel-item:only-child::after {width: 0;}#sk-container-id-1 div.sk-dashed-wrapped {border: 1px dashed gray;margin: 0 0.4em 0.5em 0.4em;box-sizing: border-box;padding-bottom: 0.4em;background-color: white;}#sk-container-id-1 div.sk-label label {font-family: monospace;font-weight: bold;display: inline-block;line-height: 1.2em;}#sk-container-id-1 div.sk-label-container {text-align: center;}#sk-container-id-1 div.sk-container {/* jupyter's `normalize.less` sets `[hidden] { display: none; }` but bootstrap.min.css set `[hidden] { display: none !important; }` so we also need the `!important` here to be able to override the default hidden behavior on the sphinx rendered scikit-learn.org. See: https://github.com/scikit-learn/scikit-learn/issues/21755 */display: inline-block !important;position: relative;}#sk-container-id-1 div.sk-text-repr-fallback {display: none;}</style><div id=\"sk-container-id-1\" class=\"sk-top-container\"><div class=\"sk-text-repr-fallback\"><pre>AdaBoostClassifier(base_estimator=DecisionTreeClassifier(max_depth=3),\n",
       "                   n_estimators=33)</pre><b>In a Jupyter environment, please rerun this cell to show the HTML representation or trust the notebook. <br />On GitHub, the HTML representation is unable to render, please try loading this page with nbviewer.org.</b></div><div class=\"sk-container\" hidden><div class=\"sk-item sk-dashed-wrapped\"><div class=\"sk-label-container\"><div class=\"sk-label sk-toggleable\"><input class=\"sk-toggleable__control sk-hidden--visually\" id=\"sk-estimator-id-1\" type=\"checkbox\" ><label for=\"sk-estimator-id-1\" class=\"sk-toggleable__label sk-toggleable__label-arrow\">AdaBoostClassifier</label><div class=\"sk-toggleable__content\"><pre>AdaBoostClassifier(base_estimator=DecisionTreeClassifier(max_depth=3),\n",
       "                   n_estimators=33)</pre></div></div></div><div class=\"sk-parallel\"><div class=\"sk-parallel-item\"><div class=\"sk-item\"><div class=\"sk-label-container\"><div class=\"sk-label sk-toggleable\"><input class=\"sk-toggleable__control sk-hidden--visually\" id=\"sk-estimator-id-2\" type=\"checkbox\" ><label for=\"sk-estimator-id-2\" class=\"sk-toggleable__label sk-toggleable__label-arrow\">base_estimator: DecisionTreeClassifier</label><div class=\"sk-toggleable__content\"><pre>DecisionTreeClassifier(max_depth=3)</pre></div></div></div><div class=\"sk-serial\"><div class=\"sk-item\"><div class=\"sk-estimator sk-toggleable\"><input class=\"sk-toggleable__control sk-hidden--visually\" id=\"sk-estimator-id-3\" type=\"checkbox\" ><label for=\"sk-estimator-id-3\" class=\"sk-toggleable__label sk-toggleable__label-arrow\">DecisionTreeClassifier</label><div class=\"sk-toggleable__content\"><pre>DecisionTreeClassifier(max_depth=3)</pre></div></div></div></div></div></div></div></div></div></div>"
      ],
      "text/plain": [
       "AdaBoostClassifier(base_estimator=DecisionTreeClassifier(max_depth=3),\n",
       "                   n_estimators=33)"
      ]
     },
     "execution_count": 19,
     "metadata": {},
     "output_type": "execute_result"
    }
   ],
   "source": [
    "method.fit(X_train, y_train)"
   ]
  },
  {
   "cell_type": "code",
   "execution_count": 20,
   "metadata": {},
   "outputs": [
    {
     "name": "stdout",
     "output_type": "stream",
     "text": [
      "Precision: 0.8823529411764706\n",
      "Recall: 0.821917808219178\n",
      "F1 score: 0.8510638297872339\n"
     ]
    }
   ],
   "source": [
    "yp = method.predict(X_test)\n",
    "yprob = method.predict_proba(X_test)\n",
    "\n",
    "print('Precision: '+str(precision_score(y_test, yp)))\n",
    "print('Recall: '+str(recall_score(y_test, yp)))\n",
    "print('F1 score: ' + str(f1_score(y_test, yp)))\n"
   ]
  },
  {
   "cell_type": "code",
   "execution_count": 22,
   "metadata": {},
   "outputs": [
    {
     "data": {
      "text/plain": [
       "<BarContainer object of 33 artists>"
      ]
     },
     "execution_count": 22,
     "metadata": {},
     "output_type": "execute_result"
    },
    {
     "data": {
      "image/png": "[encoded data removed]",
      "text/plain": [
       "<Figure size 1080x432 with 1 Axes>"
      ]
     },
     "metadata": {
      "needs_background": "light"
     },
     "output_type": "display_data"
    }
   ],
   "source": [
    "feat_imp = method.feature_importances_\n",
    "\n",
    "indices = np.argsort(feat_imp)[::-1]\n",
    "\n",
    "plt.rcParams[\"figure.figsize\"] = (15,6)\n",
    "\n",
    "plt.title(\"Feature importances\")\n",
    "plt.xticks(range(df.shape[1]),df.columns[indices],rotation='vertical')\n",
    "\n",
    "plt.xlim([-1, df.shape[1]])\n",
    "\n",
    "plt.bar(range(df.shape[1]), feat_imp[indices], color=\"r\")\n"
   ]
  },
  {
   "cell_type": "code",
   "execution_count": 23,
   "metadata": {},
   "outputs": [
    {
     "data": {
      "text/plain": [
       "array([17,  0, 11, 13, 12, 28, 15, 19, 30,  1,  4,  6, 23, 31,  8, 18, 16,\n",
       "       10, 26,  9, 32, 25,  3, 20,  5, 22, 27, 29, 24,  7,  2, 21, 14],\n",
       "      dtype=int64)"
      ]
     },
     "execution_count": 23,
     "metadata": {},
     "output_type": "execute_result"
    }
   ],
   "source": [
    "indices"
   ]
  },
  {
   "cell_type": "code",
   "execution_count": 24,
   "metadata": {},
   "outputs": [
    {
     "data": {
      "text/plain": [
       "(0.8339929911358481, 0.0379819139529932)"
      ]
     },
     "execution_count": 24,
     "metadata": {},
     "output_type": "execute_result"
    }
   ],
   "source": [
    "# reducing the dataframe\n",
    "\n",
    "col_mantain = indices[0:20]\n",
    "X_train_red = X_train.iloc[:,col_mantain]\n",
    "X_test_red = X_test.iloc[:,col_mantain]\n",
    "\n",
    "n_estimators_red = 20\n",
    "\n",
    "\n",
    "# fit the model on the reduced dataframe\n",
    "method = AdaBoostClassifier(DecisionTreeClassifier(max_depth=3),\n",
    "    n_estimators=n_estimators_red)\n",
    "\n",
    "xval_score = cross_val_score(method, df.iloc[:,col_mantain], y, cv = crossvalidation)\n",
    "\n",
    "accuracy_mean = np.average(xval_score)\n",
    "accuracy_sd = np.std(xval_score)\n",
    "\n",
    "accuracy_mean, accuracy_sd\n"
   ]
  },
  {
   "cell_type": "code",
   "execution_count": 25,
   "metadata": {},
   "outputs": [
    {
     "data": {
      "text/html": [
       "<style>#sk-container-id-2 {color: black;background-color: white;}#sk-container-id-2 pre{padding: 0;}#sk-container-id-2 div.sk-toggleable {background-color: white;}#sk-container-id-2 label.sk-toggleable__label {cursor: pointer;display: block;width: 100%;margin-bottom: 0;padding: 0.3em;box-sizing: border-box;text-align: center;}#sk-container-id-2 label.sk-toggleable__label-arrow:before {content: \"▸\";float: left;margin-right: 0.25em;color: #696969;}#sk-container-id-2 label.sk-toggleable__label-arrow:hover:before {color: black;}#sk-container-id-2 div.sk-estimator:hover label.sk-toggleable__label-arrow:before {color: black;}#sk-container-id-2 div.sk-toggleable__content {max-height: 0;max-width: 0;overflow: hidden;text-align: left;background-color: #f0f8ff;}#sk-container-id-2 div.sk-toggleable__content pre {margin: 0.2em;color: black;border-radius: 0.25em;background-color: #f0f8ff;}#sk-container-id-2 input.sk-toggleable__control:checked~div.sk-toggleable__content {max-height: 200px;max-width: 100%;overflow: auto;}#sk-container-id-2 input.sk-toggleable__control:checked~label.sk-toggleable__label-arrow:before {content: \"▾\";}#sk-container-id-2 div.sk-estimator input.sk-toggleable__control:checked~label.sk-toggleable__label {background-color: #d4ebff;}#sk-container-id-2 div.sk-label input.sk-toggleable__control:checked~label.sk-toggleable__label {background-color: #d4ebff;}#sk-container-id-2 input.sk-hidden--visually {border: 0;clip: rect(1px 1px 1px 1px);clip: rect(1px, 1px, 1px, 1px);height: 1px;margin: -1px;overflow: hidden;padding: 0;position: absolute;width: 1px;}#sk-container-id-2 div.sk-estimator {font-family: monospace;background-color: #f0f8ff;border: 1px dotted black;border-radius: 0.25em;box-sizing: border-box;margin-bottom: 0.5em;}#sk-container-id-2 div.sk-estimator:hover {background-color: #d4ebff;}#sk-container-id-2 div.sk-parallel-item::after {content: \"\";width: 100%;border-bottom: 1px solid gray;flex-grow: 1;}#sk-container-id-2 div.sk-label:hover label.sk-toggleable__label {background-color: #d4ebff;}#sk-container-id-2 div.sk-serial::before {content: \"\";position: absolute;border-left: 1px solid gray;box-sizing: border-box;top: 0;bottom: 0;left: 50%;z-index: 0;}#sk-container-id-2 div.sk-serial {display: flex;flex-direction: column;align-items: center;background-color: white;padding-right: 0.2em;padding-left: 0.2em;position: relative;}#sk-container-id-2 div.sk-item {position: relative;z-index: 1;}#sk-container-id-2 div.sk-parallel {display: flex;align-items: stretch;justify-content: center;background-color: white;position: relative;}#sk-container-id-2 div.sk-item::before, #sk-container-id-2 div.sk-parallel-item::before {content: \"\";position: absolute;border-left: 1px solid gray;box-sizing: border-box;top: 0;bottom: 0;left: 50%;z-index: -1;}#sk-container-id-2 div.sk-parallel-item {display: flex;flex-direction: column;z-index: 1;position: relative;background-color: white;}#sk-container-id-2 div.sk-parallel-item:first-child::after {align-self: flex-end;width: 50%;}#sk-container-id-2 div.sk-parallel-item:last-child::after {align-self: flex-start;width: 50%;}#sk-container-id-2 div.sk-parallel-item:only-child::after {width: 0;}#sk-container-id-2 div.sk-dashed-wrapped {border: 1px dashed gray;margin: 0 0.4em 0.5em 0.4em;box-sizing: border-box;padding-bottom: 0.4em;background-color: white;}#sk-container-id-2 div.sk-label label {font-family: monospace;font-weight: bold;display: inline-block;line-height: 1.2em;}#sk-container-id-2 div.sk-label-container {text-align: center;}#sk-container-id-2 div.sk-container {/* jupyter's `normalize.less` sets `[hidden] { display: none; }` but bootstrap.min.css set `[hidden] { display: none !important; }` so we also need the `!important` here to be able to override the default hidden behavior on the sphinx rendered scikit-learn.org. See: https://github.com/scikit-learn/scikit-learn/issues/21755 */display: inline-block !important;position: relative;}#sk-container-id-2 div.sk-text-repr-fallback {display: none;}</style><div id=\"sk-container-id-2\" class=\"sk-top-container\"><div class=\"sk-text-repr-fallback\"><pre>AdaBoostClassifier(base_estimator=DecisionTreeClassifier(max_depth=3),\n",
       "                   n_estimators=20)</pre><b>In a Jupyter environment, please rerun this cell to show the HTML representation or trust the notebook. <br />On GitHub, the HTML representation is unable to render, please try loading this page with nbviewer.org.</b></div><div class=\"sk-container\" hidden><div class=\"sk-item sk-dashed-wrapped\"><div class=\"sk-label-container\"><div class=\"sk-label sk-toggleable\"><input class=\"sk-toggleable__control sk-hidden--visually\" id=\"sk-estimator-id-4\" type=\"checkbox\" ><label for=\"sk-estimator-id-4\" class=\"sk-toggleable__label sk-toggleable__label-arrow\">AdaBoostClassifier</label><div class=\"sk-toggleable__content\"><pre>AdaBoostClassifier(base_estimator=DecisionTreeClassifier(max_depth=3),\n",
       "                   n_estimators=20)</pre></div></div></div><div class=\"sk-parallel\"><div class=\"sk-parallel-item\"><div class=\"sk-item\"><div class=\"sk-label-container\"><div class=\"sk-label sk-toggleable\"><input class=\"sk-toggleable__control sk-hidden--visually\" id=\"sk-estimator-id-5\" type=\"checkbox\" ><label for=\"sk-estimator-id-5\" class=\"sk-toggleable__label sk-toggleable__label-arrow\">base_estimator: DecisionTreeClassifier</label><div class=\"sk-toggleable__content\"><pre>DecisionTreeClassifier(max_depth=3)</pre></div></div></div><div class=\"sk-serial\"><div class=\"sk-item\"><div class=\"sk-estimator sk-toggleable\"><input class=\"sk-toggleable__control sk-hidden--visually\" id=\"sk-estimator-id-6\" type=\"checkbox\" ><label for=\"sk-estimator-id-6\" class=\"sk-toggleable__label sk-toggleable__label-arrow\">DecisionTreeClassifier</label><div class=\"sk-toggleable__content\"><pre>DecisionTreeClassifier(max_depth=3)</pre></div></div></div></div></div></div></div></div></div></div>"
      ],
      "text/plain": [
       "AdaBoostClassifier(base_estimator=DecisionTreeClassifier(max_depth=3),\n",
       "                   n_estimators=20)"
      ]
     },
     "execution_count": 25,
     "metadata": {},
     "output_type": "execute_result"
    }
   ],
   "source": [
    "method.fit(X_train, y_train)"
   ]
  },
  {
   "cell_type": "code",
   "execution_count": 26,
   "metadata": {},
   "outputs": [
    {
     "name": "stdout",
     "output_type": "stream",
     "text": [
      "Precision: 0.8686131386861314\n",
      "Recall: 0.815068493150685\n",
      "F1 score: 0.8409893992932863\n"
     ]
    }
   ],
   "source": [
    "yp = method.predict(X_test)\n",
    "yprob = method.predict_proba(X_test)\n",
    "\n",
    "print('Precision: '+str(precision_score(y_test, yp)))\n",
    "print('Recall: '+str(recall_score(y_test, yp)))\n",
    "print('F1 score: ' + str(f1_score(y_test, yp)))"
   ]
  },
  {
   "cell_type": "markdown",
   "metadata": {},
   "source": [
    "i risultati sono peggiori, mantengo tutte le features"
   ]
  }
 ],
 "metadata": {
  "interpreter": {
   "hash": "532c0ad4d7e0572bfd0188361c6d99f4735bba3972b8cb24208c1b963abc683b"
  },
  "kernelspec": {
   "display_name": "Python 3 (ipykernel)",
   "language": "python",
   "name": "python3"
  },
  "language_info": {
   "codemirror_mode": {
    "name": "ipython",
    "version": 3
   },
   "file_extension": ".py",
   "mimetype": "text/x-python",
   "name": "python",
   "nbconvert_exporter": "python",
   "pygments_lexer": "ipython3",
   "version": "3.8.13"
  }
 },
 "nbformat": 4,
 "nbformat_minor": 2
}
