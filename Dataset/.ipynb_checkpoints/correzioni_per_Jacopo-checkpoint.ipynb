{
 "cells": [
  {
   "cell_type": "markdown",
   "metadata": {},
   "source": [
    "# Correzioni varie"
   ]
  },
  {
   "cell_type": "code",
   "execution_count": null,
   "metadata": {},
   "outputs": [],
   "source": [
    "import numpy as np\n",
    "import pandas as pd\n",
    "import matplotlib.pyplot as plt\n",
    "%matplotlib inline\n",
    "import os\n",
    "import seaborn as sns"
   ]
  },
  {
   "cell_type": "code",
   "execution_count": null,
   "metadata": {},
   "outputs": [],
   "source": [
    "home_path = os.path.abspath(os.getcwd())\n",
    "home_path"
   ]
  },
  {
   "cell_type": "code",
   "execution_count": null,
   "metadata": {},
   "outputs": [],
   "source": [
    "# per risalire dall'elemento del vettore al canale e banda basta sapere che se ci si trova in\n",
    "# posizione i \n",
    "# i = 5*zona + banda\n",
    "# zona = i mod 5 \n",
    "# banda = i - i mod 5 * 5\n",
    "\n",
    "p_val_int = np.array([0.5286,  0.4052,  0.3312,  0.1022,  0.2952,\n",
    "                      0.0454,  0.0394,  0.0002,  0.0002,  0.2352,\n",
    "                      0.4528,  0.5666,  0.1252,  0.1166,  0.7752,\n",
    "                      0.6408,  0.5594,  0.6018,  0.0728,  0.0014,\n",
    "                      0.3272,  0.2708,  0.1088,  0.2588,  0.0224,\n",
    "                      0.1526,  0.9322,  0.3024,  0.2476,  0.0456,\n",
    "                      0.0002,  0.0002,  0.0032,  0.0304,  0.4020])\n",
    "\n",
    "\n",
    "p_val_norm = np.array([0.6820,  0.6504,  0.3608,  0.0118,  0.3410,\n",
    "                    0.0002,  0.0012,  0.0002,  0.0002,  0.1232,\n",
    "                    0.2532,  0.1022,  0.2542,  0.2148,  0.4512,\n",
    "                    0.8926,  0.8962,  0.1468,  0.0526,  0.0016,\n",
    "                    0.0204,  0.2140,  0.1850,  0.2968,  0.0410,\n",
    "                    0.6058,  0.0620,  0.4740,  0.3442,  0.0656,\n",
    "                    0.0002,  0.0002,  0.0062,  0.0164,  0.9768])"
   ]
  },
  {
   "cell_type": "code",
   "execution_count": null,
   "metadata": {},
   "outputs": [],
   "source": [
    "p_val_picco = np.array([0.7554,  0.2928,  0.1538,  0.0290,  0.2234,\n",
    "                    0.0880,  0.1310,  0.0004,  0.0002,  0.9514,\n",
    "                    0.2384,  0.4092,  0.7544,  0.0978,  0.7872,\n",
    "                    0.9306,  0.5938,  0.4330,  0.0506,  0.0004,\n",
    "                    0.3982,  0.7732,  0.2830,  0.1536,  0.0210,\n",
    "                    0.2098,  0.9840,  0.9844,  0.7440,  0.0310,\n",
    "                    0.0002,  0.0002,  0.0150,  0.0030,  0.1934])"
   ]
  },
  {
   "cell_type": "code",
   "execution_count": null,
   "metadata": {},
   "outputs": [],
   "source": []
  }
 ],
 "metadata": {
  "kernelspec": {
   "display_name": "Python 3 (ipykernel)",
   "language": "python",
   "name": "python3"
  },
  "language_info": {
   "codemirror_mode": {
    "name": "ipython",
    "version": 3
   },
   "file_extension": ".py",
   "mimetype": "text/x-python",
   "name": "python",
   "nbconvert_exporter": "python",
   "pygments_lexer": "ipython3",
   "version": "3.8.13"
  },
  "vscode": {
   "interpreter": {
    "hash": "532c0ad4d7e0572bfd0188361c6d99f4735bba3972b8cb24208c1b963abc683b"
   }
  }
 },
 "nbformat": 4,
 "nbformat_minor": 2
}
