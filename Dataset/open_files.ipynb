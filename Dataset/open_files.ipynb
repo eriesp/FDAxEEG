{
 "cells": [
  {
   "cell_type": "markdown",
   "metadata": {},
   "source": [
    "# Open signals"
   ]
  },
  {
   "cell_type": "code",
   "execution_count": 1,
   "metadata": {},
   "outputs": [],
   "source": [
    "import numpy as np\n",
    "import matplotlib as plt\n",
    "from scipy.io import loadmat \n",
    "import mne\n",
    "import os"
   ]
  },
  {
   "cell_type": "code",
   "execution_count": 2,
   "metadata": {},
   "outputs": [],
   "source": [
    "import neurokit2 as nk"
   ]
  },
  {
   "cell_type": "code",
   "execution_count": 19,
   "metadata": {},
   "outputs": [],
   "source": [
    "list_path_adhd = os.listdir(r'C:\\Users\\erica\\Documents\\UNI\\NECSTCamp\\NL2\\Project-git\\FDAxEEG\\Dataset\\ADHD')\n",
    "list_path_control = os.listdir(r'C:\\Users\\erica\\Documents\\UNI\\NECSTCamp\\NL2\\Project-git\\FDAxEEG\\Dataset\\Control')"
   ]
  },
  {
   "cell_type": "code",
   "execution_count": 25,
   "metadata": {},
   "outputs": [
    {
     "data": {
      "text/plain": [
       "'v12p.mat'"
      ]
     },
     "execution_count": 25,
     "metadata": {},
     "output_type": "execute_result"
    }
   ],
   "source": [
    "matfiles_adhd = [name for name in list_path_adhd if '.mat' in name ]\n",
    "matfiles_adhd[1]"
   ]
  },
  {
   "cell_type": "code",
   "execution_count": 26,
   "metadata": {},
   "outputs": [
    {
     "data": {
      "text/plain": [
       "'v108.mat'"
      ]
     },
     "execution_count": 26,
     "metadata": {},
     "output_type": "execute_result"
    }
   ],
   "source": [
    "# matfile con file di controllo\n",
    "matfiles_control = [name for name in list_path_control if '.mat' in name ]\n",
    "matfiles_control[1]"
   ]
  },
  {
   "cell_type": "code",
   "execution_count": 28,
   "metadata": {},
   "outputs": [
    {
     "ename": "FileNotFoundError",
     "evalue": "[Errno 2] No such file or directory: 'v12p.mat'",
     "output_type": "error",
     "traceback": [
      "\u001b[1;31m---------------------------------------------------------------------------\u001b[0m",
      "\u001b[1;31mFileNotFoundError\u001b[0m                         Traceback (most recent call last)",
      "File \u001b[1;32m~\\miniconda3\\envs\\NL2\\lib\\site-packages\\scipy\\io\\matlab\\_mio.py:39\u001b[0m, in \u001b[0;36m_open_file\u001b[1;34m(file_like, appendmat, mode)\u001b[0m\n\u001b[0;32m     <a href='file:///c%3A/Users/erica/miniconda3/envs/NL2/lib/site-packages/scipy/io/matlab/_mio.py?line=37'>38</a>\u001b[0m \u001b[39mtry\u001b[39;00m:\n\u001b[1;32m---> <a href='file:///c%3A/Users/erica/miniconda3/envs/NL2/lib/site-packages/scipy/io/matlab/_mio.py?line=38'>39</a>\u001b[0m     \u001b[39mreturn\u001b[39;00m \u001b[39mopen\u001b[39;49m(file_like, mode), \u001b[39mTrue\u001b[39;00m\n\u001b[0;32m     <a href='file:///c%3A/Users/erica/miniconda3/envs/NL2/lib/site-packages/scipy/io/matlab/_mio.py?line=39'>40</a>\u001b[0m \u001b[39mexcept\u001b[39;00m \u001b[39mOSError\u001b[39;00m \u001b[39mas\u001b[39;00m e:\n\u001b[0;32m     <a href='file:///c%3A/Users/erica/miniconda3/envs/NL2/lib/site-packages/scipy/io/matlab/_mio.py?line=40'>41</a>\u001b[0m     \u001b[39m# Probably \"not found\"\u001b[39;00m\n",
      "\u001b[1;31mFileNotFoundError\u001b[0m: [Errno 2] No such file or directory: 'v12p.mat'",
      "\nDuring handling of the above exception, another exception occurred:\n",
      "\u001b[1;31mFileNotFoundError\u001b[0m                         Traceback (most recent call last)",
      "\u001b[1;32mc:\\Users\\erica\\Documents\\UNI\\NECSTCamp\\NL2\\Project-git\\FDAxEEG\\Dataset\\open_files.ipynb Cell 7'\u001b[0m in \u001b[0;36m<cell line: 4>\u001b[1;34m()\u001b[0m\n\u001b[0;32m      <a href='vscode-notebook-cell:/c%3A/Users/erica/Documents/UNI/NECSTCamp/NL2/Project-git/FDAxEEG/Dataset/open_files.ipynb#ch0000005?line=0'>1</a>\u001b[0m \u001b[39m#importing the file\u001b[39;00m\n\u001b[0;32m      <a href='vscode-notebook-cell:/c%3A/Users/erica/Documents/UNI/NECSTCamp/NL2/Project-git/FDAxEEG/Dataset/open_files.ipynb#ch0000005?line=1'>2</a>\u001b[0m \u001b[39m#matfiles = glob.glob('*.mat')\u001b[39;00m\n\u001b[1;32m----> <a href='vscode-notebook-cell:/c%3A/Users/erica/Documents/UNI/NECSTCamp/NL2/Project-git/FDAxEEG/Dataset/open_files.ipynb#ch0000005?line=3'>4</a>\u001b[0m data_adhd \u001b[39m=\u001b[39m loadmat(matfiles_adhd[\u001b[39m1\u001b[39;49m])\n\u001b[0;32m      <a href='vscode-notebook-cell:/c%3A/Users/erica/Documents/UNI/NECSTCamp/NL2/Project-git/FDAxEEG/Dataset/open_files.ipynb#ch0000005?line=4'>5</a>\u001b[0m data_control \u001b[39m=\u001b[39m loadmat(matfiles_control[\u001b[39m1\u001b[39m])\n\u001b[0;32m      <a href='vscode-notebook-cell:/c%3A/Users/erica/Documents/UNI/NECSTCamp/NL2/Project-git/FDAxEEG/Dataset/open_files.ipynb#ch0000005?line=6'>7</a>\u001b[0m channel_names \u001b[39m=\u001b[39m [\u001b[39m\"\u001b[39m\u001b[39mFp1\u001b[39m\u001b[39m\"\u001b[39m, \u001b[39m\"\u001b[39m\u001b[39mFp2\u001b[39m\u001b[39m\"\u001b[39m,\u001b[39m\"\u001b[39m\u001b[39mF3\u001b[39m\u001b[39m\"\u001b[39m,\u001b[39m\"\u001b[39m\u001b[39mF4\u001b[39m\u001b[39m\"\u001b[39m,\u001b[39m\"\u001b[39m\u001b[39mC3\u001b[39m\u001b[39m\"\u001b[39m,\u001b[39m\"\u001b[39m\u001b[39mC4\u001b[39m\u001b[39m\"\u001b[39m,\u001b[39m\"\u001b[39m\u001b[39mP3\u001b[39m\u001b[39m\"\u001b[39m,\u001b[39m\"\u001b[39m\u001b[39mP4\u001b[39m\u001b[39m\"\u001b[39m,\u001b[39m\"\u001b[39m\u001b[39mO1\u001b[39m\u001b[39m\"\u001b[39m,\u001b[39m\"\u001b[39m\u001b[39mO2\u001b[39m\u001b[39m\"\u001b[39m,\u001b[39m\"\u001b[39m\u001b[39mF7\u001b[39m\u001b[39m\"\u001b[39m,\u001b[39m\"\u001b[39m\u001b[39mF8\u001b[39m\u001b[39m\"\u001b[39m,\u001b[39m\"\u001b[39m\u001b[39mT7\u001b[39m\u001b[39m\"\u001b[39m, \n\u001b[0;32m      <a href='vscode-notebook-cell:/c%3A/Users/erica/Documents/UNI/NECSTCamp/NL2/Project-git/FDAxEEG/Dataset/open_files.ipynb#ch0000005?line=7'>8</a>\u001b[0m               \u001b[39m\"\u001b[39m\u001b[39mT8\u001b[39m\u001b[39m\"\u001b[39m, \u001b[39m\"\u001b[39m\u001b[39mP7\u001b[39m\u001b[39m\"\u001b[39m,\u001b[39m\"\u001b[39m\u001b[39mP8\u001b[39m\u001b[39m\"\u001b[39m,\u001b[39m\"\u001b[39m\u001b[39mFz\u001b[39m\u001b[39m\"\u001b[39m,\u001b[39m\"\u001b[39m\u001b[39mCz\u001b[39m\u001b[39m\"\u001b[39m,\u001b[39m\"\u001b[39m\u001b[39mPz\u001b[39m\u001b[39m\"\u001b[39m] \n",
      "File \u001b[1;32m~\\miniconda3\\envs\\NL2\\lib\\site-packages\\scipy\\io\\matlab\\_mio.py:224\u001b[0m, in \u001b[0;36mloadmat\u001b[1;34m(file_name, mdict, appendmat, **kwargs)\u001b[0m\n\u001b[0;32m     <a href='file:///c%3A/Users/erica/miniconda3/envs/NL2/lib/site-packages/scipy/io/matlab/_mio.py?line=86'>87</a>\u001b[0m \u001b[39m\"\"\"\u001b[39;00m\n\u001b[0;32m     <a href='file:///c%3A/Users/erica/miniconda3/envs/NL2/lib/site-packages/scipy/io/matlab/_mio.py?line=87'>88</a>\u001b[0m \u001b[39mLoad MATLAB file.\u001b[39;00m\n\u001b[0;32m     <a href='file:///c%3A/Users/erica/miniconda3/envs/NL2/lib/site-packages/scipy/io/matlab/_mio.py?line=88'>89</a>\u001b[0m \n\u001b[1;32m   (...)\u001b[0m\n\u001b[0;32m    <a href='file:///c%3A/Users/erica/miniconda3/envs/NL2/lib/site-packages/scipy/io/matlab/_mio.py?line=220'>221</a>\u001b[0m \u001b[39m    3.14159265+3.14159265j])\u001b[39;00m\n\u001b[0;32m    <a href='file:///c%3A/Users/erica/miniconda3/envs/NL2/lib/site-packages/scipy/io/matlab/_mio.py?line=221'>222</a>\u001b[0m \u001b[39m\"\"\"\u001b[39;00m\n\u001b[0;32m    <a href='file:///c%3A/Users/erica/miniconda3/envs/NL2/lib/site-packages/scipy/io/matlab/_mio.py?line=222'>223</a>\u001b[0m variable_names \u001b[39m=\u001b[39m kwargs\u001b[39m.\u001b[39mpop(\u001b[39m'\u001b[39m\u001b[39mvariable_names\u001b[39m\u001b[39m'\u001b[39m, \u001b[39mNone\u001b[39;00m)\n\u001b[1;32m--> <a href='file:///c%3A/Users/erica/miniconda3/envs/NL2/lib/site-packages/scipy/io/matlab/_mio.py?line=223'>224</a>\u001b[0m \u001b[39mwith\u001b[39;00m _open_file_context(file_name, appendmat) \u001b[39mas\u001b[39;00m f:\n\u001b[0;32m    <a href='file:///c%3A/Users/erica/miniconda3/envs/NL2/lib/site-packages/scipy/io/matlab/_mio.py?line=224'>225</a>\u001b[0m     MR, _ \u001b[39m=\u001b[39m mat_reader_factory(f, \u001b[39m*\u001b[39m\u001b[39m*\u001b[39mkwargs)\n\u001b[0;32m    <a href='file:///c%3A/Users/erica/miniconda3/envs/NL2/lib/site-packages/scipy/io/matlab/_mio.py?line=225'>226</a>\u001b[0m     matfile_dict \u001b[39m=\u001b[39m MR\u001b[39m.\u001b[39mget_variables(variable_names)\n",
      "File \u001b[1;32m~\\miniconda3\\envs\\NL2\\lib\\contextlib.py:119\u001b[0m, in \u001b[0;36m_GeneratorContextManager.__enter__\u001b[1;34m(self)\u001b[0m\n\u001b[0;32m    <a href='file:///c%3A/Users/erica/miniconda3/envs/NL2/lib/contextlib.py?line=116'>117</a>\u001b[0m \u001b[39mdel\u001b[39;00m \u001b[39mself\u001b[39m\u001b[39m.\u001b[39margs, \u001b[39mself\u001b[39m\u001b[39m.\u001b[39mkwds, \u001b[39mself\u001b[39m\u001b[39m.\u001b[39mfunc\n\u001b[0;32m    <a href='file:///c%3A/Users/erica/miniconda3/envs/NL2/lib/contextlib.py?line=117'>118</a>\u001b[0m \u001b[39mtry\u001b[39;00m:\n\u001b[1;32m--> <a href='file:///c%3A/Users/erica/miniconda3/envs/NL2/lib/contextlib.py?line=118'>119</a>\u001b[0m     \u001b[39mreturn\u001b[39;00m \u001b[39mnext\u001b[39;49m(\u001b[39mself\u001b[39;49m\u001b[39m.\u001b[39;49mgen)\n\u001b[0;32m    <a href='file:///c%3A/Users/erica/miniconda3/envs/NL2/lib/contextlib.py?line=119'>120</a>\u001b[0m \u001b[39mexcept\u001b[39;00m \u001b[39mStopIteration\u001b[39;00m:\n\u001b[0;32m    <a href='file:///c%3A/Users/erica/miniconda3/envs/NL2/lib/contextlib.py?line=120'>121</a>\u001b[0m     \u001b[39mraise\u001b[39;00m \u001b[39mRuntimeError\u001b[39;00m(\u001b[39m\"\u001b[39m\u001b[39mgenerator didn\u001b[39m\u001b[39m'\u001b[39m\u001b[39mt yield\u001b[39m\u001b[39m\"\u001b[39m) \u001b[39mfrom\u001b[39;00m \u001b[39mNone\u001b[39m\n",
      "File \u001b[1;32m~\\miniconda3\\envs\\NL2\\lib\\site-packages\\scipy\\io\\matlab\\_mio.py:17\u001b[0m, in \u001b[0;36m_open_file_context\u001b[1;34m(file_like, appendmat, mode)\u001b[0m\n\u001b[0;32m     <a href='file:///c%3A/Users/erica/miniconda3/envs/NL2/lib/site-packages/scipy/io/matlab/_mio.py?line=14'>15</a>\u001b[0m \u001b[39m@contextmanager\u001b[39m\n\u001b[0;32m     <a href='file:///c%3A/Users/erica/miniconda3/envs/NL2/lib/site-packages/scipy/io/matlab/_mio.py?line=15'>16</a>\u001b[0m \u001b[39mdef\u001b[39;00m \u001b[39m_open_file_context\u001b[39m(file_like, appendmat, mode\u001b[39m=\u001b[39m\u001b[39m'\u001b[39m\u001b[39mrb\u001b[39m\u001b[39m'\u001b[39m):\n\u001b[1;32m---> <a href='file:///c%3A/Users/erica/miniconda3/envs/NL2/lib/site-packages/scipy/io/matlab/_mio.py?line=16'>17</a>\u001b[0m     f, opened \u001b[39m=\u001b[39m _open_file(file_like, appendmat, mode)\n\u001b[0;32m     <a href='file:///c%3A/Users/erica/miniconda3/envs/NL2/lib/site-packages/scipy/io/matlab/_mio.py?line=17'>18</a>\u001b[0m     \u001b[39mtry\u001b[39;00m:\n\u001b[0;32m     <a href='file:///c%3A/Users/erica/miniconda3/envs/NL2/lib/site-packages/scipy/io/matlab/_mio.py?line=18'>19</a>\u001b[0m         \u001b[39myield\u001b[39;00m f\n",
      "File \u001b[1;32m~\\miniconda3\\envs\\NL2\\lib\\site-packages\\scipy\\io\\matlab\\_mio.py:45\u001b[0m, in \u001b[0;36m_open_file\u001b[1;34m(file_like, appendmat, mode)\u001b[0m\n\u001b[0;32m     <a href='file:///c%3A/Users/erica/miniconda3/envs/NL2/lib/site-packages/scipy/io/matlab/_mio.py?line=42'>43</a>\u001b[0m     \u001b[39mif\u001b[39;00m appendmat \u001b[39mand\u001b[39;00m \u001b[39mnot\u001b[39;00m file_like\u001b[39m.\u001b[39mendswith(\u001b[39m'\u001b[39m\u001b[39m.mat\u001b[39m\u001b[39m'\u001b[39m):\n\u001b[0;32m     <a href='file:///c%3A/Users/erica/miniconda3/envs/NL2/lib/site-packages/scipy/io/matlab/_mio.py?line=43'>44</a>\u001b[0m         file_like \u001b[39m+\u001b[39m\u001b[39m=\u001b[39m \u001b[39m'\u001b[39m\u001b[39m.mat\u001b[39m\u001b[39m'\u001b[39m\n\u001b[1;32m---> <a href='file:///c%3A/Users/erica/miniconda3/envs/NL2/lib/site-packages/scipy/io/matlab/_mio.py?line=44'>45</a>\u001b[0m     \u001b[39mreturn\u001b[39;00m \u001b[39mopen\u001b[39;49m(file_like, mode), \u001b[39mTrue\u001b[39;00m\n\u001b[0;32m     <a href='file:///c%3A/Users/erica/miniconda3/envs/NL2/lib/site-packages/scipy/io/matlab/_mio.py?line=45'>46</a>\u001b[0m \u001b[39melse\u001b[39;00m:\n\u001b[0;32m     <a href='file:///c%3A/Users/erica/miniconda3/envs/NL2/lib/site-packages/scipy/io/matlab/_mio.py?line=46'>47</a>\u001b[0m     \u001b[39mraise\u001b[39;00m \u001b[39mOSError\u001b[39;00m(\n\u001b[0;32m     <a href='file:///c%3A/Users/erica/miniconda3/envs/NL2/lib/site-packages/scipy/io/matlab/_mio.py?line=47'>48</a>\u001b[0m         \u001b[39m'\u001b[39m\u001b[39mReader needs file name or open file-like object\u001b[39m\u001b[39m'\u001b[39m\n\u001b[0;32m     <a href='file:///c%3A/Users/erica/miniconda3/envs/NL2/lib/site-packages/scipy/io/matlab/_mio.py?line=48'>49</a>\u001b[0m     ) \u001b[39mfrom\u001b[39;00m \u001b[39me\u001b[39;00m\n",
      "\u001b[1;31mFileNotFoundError\u001b[0m: [Errno 2] No such file or directory: 'v12p.mat'"
     ]
    }
   ],
   "source": [
    "#importing the file\n",
    "#matfiles = glob.glob('*.mat')\n",
    "\n",
    "data_adhd = loadmat(matfiles_adhd[1])\n",
    "data_control = loadmat(matfiles_control[1])\n",
    "\n",
    "channel_names = [\"Fp1\", \"Fp2\",\"F3\",\"F4\",\"C3\",\"C4\",\"P3\",\"P4\",\"O1\",\"O2\",\"F7\",\"F8\",\"T7\", \n",
    "              \"T8\", \"P7\",\"P8\",\"Fz\",\"Cz\",\"Pz\"] \n",
    "sfreq=128\n",
    "\n",
    "n_channels = len(data['v12p'][1,:]) #19"
   ]
  },
  {
   "cell_type": "code",
   "execution_count": 12,
   "metadata": {},
   "outputs": [
    {
     "data": {
      "text/plain": [
       "array([[-160,  121,  -90, ...,  156,  121,   50],\n",
       "       [ -90,  191,  121, ...,  121,  121,  156],\n",
       "       [-388,  531, -131, ...,  457,  236, -167],\n",
       "       ...,\n",
       "       [-195,  226,  -55, ...,  473,   15,  156],\n",
       "       [ 156,  191,  226, ...,  367, -301,  332],\n",
       "       [  15,   85,  -19, ...,  578, -301,  437]], dtype=int16)"
      ]
     },
     "execution_count": 12,
     "metadata": {},
     "output_type": "execute_result"
    }
   ],
   "source": [
    "data[\"v12p\"].T"
   ]
  },
  {
   "cell_type": "code",
   "execution_count": 13,
   "metadata": {},
   "outputs": [],
   "source": [
    "info = mne.create_info(\n",
    "        ch_names = channel_names,\n",
    "        ch_types = ['eeg']*n_channels,\n",
    "        sfreq    = sfreq \n",
    "        )   "
   ]
  },
  {
   "cell_type": "code",
   "execution_count": 14,
   "metadata": {},
   "outputs": [
    {
     "name": "stdout",
     "output_type": "stream",
     "text": [
      "Creating RawArray with float64 data, n_channels=19, n_times=17604\n",
      "    Range : 0 ... 17603 =      0.000 ...   137.523 secs\n",
      "Ready.\n",
      "Using matplotlib as 2D backend.\n"
     ]
    },
    {
     "data": {
      "image/png": "[encoded data removed]",
      "text/plain": [
       "<MNEBrowseFigure size 576x576 with 4 Axes>"
      ]
     },
     "metadata": {
      "needs_background": "light"
     },
     "output_type": "display_data"
    },
    {
     "data": {
      "image/png": "[encoded data removed]",
      "text/plain": [
       "<MNEBrowseFigure size 576x576 with 4 Axes>"
      ]
     },
     "execution_count": 14,
     "metadata": {},
     "output_type": "execute_result"
    }
   ],
   "source": [
    "info.set_montage('standard_1020')\n",
    "\n",
    "simulated_raw = mne.io.RawArray(data['v12p'].T, info)\n",
    "simulated_raw.plot(show_scrollbars=False, show_scalebars=False, n_channels=1)"
   ]
  },
  {
   "cell_type": "code",
   "execution_count": 15,
   "metadata": {},
   "outputs": [
    {
     "ename": "AttributeError",
     "evalue": "module 'matplotlib' has no attribute 'plot'",
     "output_type": "error",
     "traceback": [
      "\u001b[1;31m---------------------------------------------------------------------------\u001b[0m",
      "\u001b[1;31mAttributeError\u001b[0m                            Traceback (most recent call last)",
      "\u001b[1;32mc:\\Users\\erica\\Documents\\UNI\\NECSTCamp\\NL2\\Project-git\\FDAxEEG\\Dataset\\open_files.ipynb Cell 10'\u001b[0m in \u001b[0;36m<cell line: 1>\u001b[1;34m()\u001b[0m\n\u001b[1;32m----> <a href='vscode-notebook-cell:/c%3A/Users/erica/Documents/UNI/NECSTCamp/NL2/Project-git/FDAxEEG/Dataset/open_files.ipynb#ch0000009?line=0'>1</a>\u001b[0m plt\u001b[39m.\u001b[39;49mplot(data[\u001b[39m\"\u001b[39m\u001b[39mv12p\u001b[39m\u001b[39m\"\u001b[39m])\n",
      "File \u001b[1;32m~\\miniconda3\\envs\\NL2\\lib\\site-packages\\matplotlib\\_api\\__init__.py:222\u001b[0m, in \u001b[0;36mcaching_module_getattr.<locals>.__getattr__\u001b[1;34m(name)\u001b[0m\n\u001b[0;32m    <a href='file:///c%3A/Users/erica/miniconda3/envs/NL2/lib/site-packages/matplotlib/_api/__init__.py?line=219'>220</a>\u001b[0m \u001b[39mif\u001b[39;00m name \u001b[39min\u001b[39;00m props:\n\u001b[0;32m    <a href='file:///c%3A/Users/erica/miniconda3/envs/NL2/lib/site-packages/matplotlib/_api/__init__.py?line=220'>221</a>\u001b[0m     \u001b[39mreturn\u001b[39;00m props[name]\u001b[39m.\u001b[39m\u001b[39m__get__\u001b[39m(instance)\n\u001b[1;32m--> <a href='file:///c%3A/Users/erica/miniconda3/envs/NL2/lib/site-packages/matplotlib/_api/__init__.py?line=221'>222</a>\u001b[0m \u001b[39mraise\u001b[39;00m \u001b[39mAttributeError\u001b[39;00m(\n\u001b[0;32m    <a href='file:///c%3A/Users/erica/miniconda3/envs/NL2/lib/site-packages/matplotlib/_api/__init__.py?line=222'>223</a>\u001b[0m     \u001b[39mf\u001b[39m\u001b[39m\"\u001b[39m\u001b[39mmodule \u001b[39m\u001b[39m{\u001b[39;00m\u001b[39mcls\u001b[39m\u001b[39m.\u001b[39m\u001b[39m__module__\u001b[39m\u001b[39m!r}\u001b[39;00m\u001b[39m has no attribute \u001b[39m\u001b[39m{\u001b[39;00mname\u001b[39m!r}\u001b[39;00m\u001b[39m\"\u001b[39m)\n",
      "\u001b[1;31mAttributeError\u001b[0m: module 'matplotlib' has no attribute 'plot'"
     ]
    }
   ],
   "source": [
    "plt.plot(data[\"v12p\"])"
   ]
  },
  {
   "cell_type": "code",
   "execution_count": null,
   "metadata": {},
   "outputs": [],
   "source": []
  }
 ],
 "metadata": {
  "interpreter": {
   "hash": "9934fa4e892a374c69910a20e81aef39fa687256a71f2f0152ebc02fd26692a9"
  },
  "kernelspec": {
   "display_name": "Python 3.9.10 ('NL2')",
   "language": "python",
   "name": "python3"
  },
  "language_info": {
   "codemirror_mode": {
    "name": "ipython",
    "version": 3
   },
   "file_extension": ".py",
   "mimetype": "text/x-python",
   "name": "python",
   "nbconvert_exporter": "python",
   "pygments_lexer": "ipython3",
   "version": "3.9.10"
  },
  "orig_nbformat": 4
 },
 "nbformat": 4,
 "nbformat_minor": 2
}
