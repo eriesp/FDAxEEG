{
 "cells": [
  {
   "cell_type": "markdown",
   "metadata": {},
   "source": [
    "# Correzioni varie"
   ]
  },
  {
   "cell_type": "code",
   "execution_count": 1,
   "metadata": {},
   "outputs": [],
   "source": [
    "import numpy as np\n",
    "import pandas as pd\n",
    "import matplotlib.pyplot as plt\n",
    "%matplotlib inline\n",
    "import os\n",
    "import seaborn as sns"
   ]
  },
  {
   "cell_type": "code",
   "execution_count": 2,
   "metadata": {},
   "outputs": [
    {
     "data": {
      "text/plain": [
       "'C:\\\\Users\\\\Asus\\\\OneDrive\\\\Desktop\\\\NECST\\\\NL2\\\\FDAxEEG\\\\Dataset'"
      ]
     },
     "execution_count": 2,
     "metadata": {},
     "output_type": "execute_result"
    }
   ],
   "source": [
    "home_path = os.path.abspath(os.getcwd())\n",
    "home_path"
   ]
  },
  {
   "cell_type": "code",
   "execution_count": 3,
   "metadata": {},
   "outputs": [],
   "source": [
    "# per risalire dall'elemento del vettore al canale e banda basta sapere che se ci si trova in\n",
    "# posizione i \n",
    "# i = 5*zona + banda\n",
    "# zona = i mod 5 \n",
    "# banda = i - i mod 5 * 5\n",
    "\n",
    "p_val_int = np.array([0.5286,  0.4052,  0.3312,  0.1022,  0.2952,\n",
    "                      0.0454,  0.0394,  0.0002,  0.0002,  0.2352,\n",
    "                      0.4528,  0.5666,  0.1252,  0.1166,  0.7752,\n",
    "                      0.6408,  0.5594,  0.6018,  0.0728,  0.0014,\n",
    "                      0.3272,  0.2708,  0.1088,  0.2588,  0.0224,\n",
    "                      0.1526,  0.9322,  0.3024,  0.2476,  0.0456,\n",
    "                      0.0002,  0.0002,  0.0032,  0.0304,  0.4020])\n",
    "\n",
    "\n",
    "p_val_norm = np.array([0.6820,  0.6504,  0.3608,  0.0118,  0.3410,\n",
    "                    0.0002,  0.0012,  0.0002,  0.0002,  0.1232,\n",
    "                    0.2532,  0.1022,  0.2542,  0.2148,  0.4512,\n",
    "                    0.8926,  0.8962,  0.1468,  0.0526,  0.0016,\n",
    "                    0.0204,  0.2140,  0.1850,  0.2968,  0.0410,\n",
    "                    0.6058,  0.0620,  0.4740,  0.3442,  0.0656,\n",
    "                    0.0002,  0.0002,  0.0062,  0.0164,  0.9768])"
   ]
  },
  {
   "cell_type": "code",
   "execution_count": 4,
   "metadata": {},
   "outputs": [],
   "source": [
    "p_val_picco = np.array([0.7554,  0.2928,  0.1538,  0.0290,  0.2234,\n",
    "                    0.0880,  0.1310,  0.0004,  0.0002,  0.9514,\n",
    "                    0.2384,  0.4092,  0.7544,  0.0978,  0.7872,\n",
    "                    0.9306,  0.5938,  0.4330,  0.0506,  0.0004,\n",
    "                    0.3982,  0.7732,  0.2830,  0.1536,  0.0210,\n",
    "                    0.2098,  0.9840,  0.9844,  0.7440,  0.0310,\n",
    "                    0.0002,  0.0002,  0.0150,  0.0030,  0.1934])"
   ]
  },
  {
   "cell_type": "code",
   "execution_count": 5,
   "metadata": {},
   "outputs": [
    {
     "data": {
      "text/html": [
       "<div>\n",
       "<style scoped>\n",
       "    .dataframe tbody tr th:only-of-type {\n",
       "        vertical-align: middle;\n",
       "    }\n",
       "\n",
       "    .dataframe tbody tr th {\n",
       "        vertical-align: top;\n",
       "    }\n",
       "\n",
       "    .dataframe thead th {\n",
       "        text-align: right;\n",
       "    }\n",
       "</style>\n",
       "<table border=\"1\" class=\"dataframe\">\n",
       "  <thead>\n",
       "    <tr style=\"text-align: right;\">\n",
       "      <th></th>\n",
       "      <th>0</th>\n",
       "      <th>1</th>\n",
       "      <th>2</th>\n",
       "      <th>3</th>\n",
       "      <th>4</th>\n",
       "    </tr>\n",
       "  </thead>\n",
       "  <tbody>\n",
       "    <tr>\n",
       "      <th>0</th>\n",
       "      <td>0.3850</td>\n",
       "      <td>0.3450</td>\n",
       "      <td>0.1625</td>\n",
       "      <td>0.9750</td>\n",
       "      <td>0.1985</td>\n",
       "    </tr>\n",
       "    <tr>\n",
       "      <th>1</th>\n",
       "      <td>0.0000</td>\n",
       "      <td>0.0010</td>\n",
       "      <td>0.0005</td>\n",
       "      <td>0.0000</td>\n",
       "      <td>0.1255</td>\n",
       "    </tr>\n",
       "    <tr>\n",
       "      <th>2</th>\n",
       "      <td>0.0500</td>\n",
       "      <td>0.0165</td>\n",
       "      <td>0.0000</td>\n",
       "      <td>0.0365</td>\n",
       "      <td>0.2990</td>\n",
       "    </tr>\n",
       "    <tr>\n",
       "      <th>3</th>\n",
       "      <td>0.0620</td>\n",
       "      <td>0.1300</td>\n",
       "      <td>0.2050</td>\n",
       "      <td>0.0125</td>\n",
       "      <td>0.0060</td>\n",
       "    </tr>\n",
       "    <tr>\n",
       "      <th>4</th>\n",
       "      <td>0.0010</td>\n",
       "      <td>0.0525</td>\n",
       "      <td>0.0440</td>\n",
       "      <td>0.0590</td>\n",
       "      <td>0.0300</td>\n",
       "    </tr>\n",
       "    <tr>\n",
       "      <th>5</th>\n",
       "      <td>0.0395</td>\n",
       "      <td>0.2940</td>\n",
       "      <td>0.0820</td>\n",
       "      <td>0.2310</td>\n",
       "      <td>0.0490</td>\n",
       "    </tr>\n",
       "    <tr>\n",
       "      <th>6</th>\n",
       "      <td>0.0000</td>\n",
       "      <td>0.0000</td>\n",
       "      <td>0.0005</td>\n",
       "      <td>0.0075</td>\n",
       "      <td>0.0650</td>\n",
       "    </tr>\n",
       "  </tbody>\n",
       "</table>\n",
       "</div>"
      ],
      "text/plain": [
       "        0       1       2       3       4\n",
       "0  0.3850  0.3450  0.1625  0.9750  0.1985\n",
       "1  0.0000  0.0010  0.0005  0.0000  0.1255\n",
       "2  0.0500  0.0165  0.0000  0.0365  0.2990\n",
       "3  0.0620  0.1300  0.2050  0.0125  0.0060\n",
       "4  0.0010  0.0525  0.0440  0.0590  0.0300\n",
       "5  0.0395  0.2940  0.0820  0.2310  0.0490\n",
       "6  0.0000  0.0000  0.0005  0.0075  0.0650"
      ]
     },
     "execution_count": 5,
     "metadata": {},
     "output_type": "execute_result"
    }
   ],
   "source": [
    "func_p_val = pd.read_csv(\"p_val_functional.csv\", sep = ',',index_col=False)\n",
    "func_p_val = func_p_val.iloc[:,1:6]\n",
    "func_p_val"
   ]
  },
  {
   "cell_type": "code",
   "execution_count": 6,
   "metadata": {},
   "outputs": [
    {
     "data": {
      "text/plain": [
       "array([3.850e-01, 3.450e-01, 1.625e-01, 9.750e-01, 1.985e-01, 0.000e+00,\n",
       "       1.000e-03, 5.000e-04, 0.000e+00, 1.255e-01, 5.000e-02, 1.650e-02,\n",
       "       0.000e+00, 3.650e-02, 2.990e-01, 6.200e-02, 1.300e-01, 2.050e-01,\n",
       "       1.250e-02, 6.000e-03, 1.000e-03, 5.250e-02, 4.400e-02, 5.900e-02,\n",
       "       3.000e-02, 3.950e-02, 2.940e-01, 8.200e-02, 2.310e-01, 4.900e-02,\n",
       "       0.000e+00, 0.000e+00, 5.000e-04, 7.500e-03, 6.500e-02])"
      ]
     },
     "execution_count": 6,
     "metadata": {},
     "output_type": "execute_result"
    }
   ],
   "source": [
    "p_val_func = func_p_val.to_numpy()\n",
    "p_val_func = p_val_func.flatten()\n",
    "p_val_func"
   ]
  },
  {
   "cell_type": "code",
   "execution_count": 7,
   "metadata": {},
   "outputs": [],
   "source": [
    "from audioop import reverse\n",
    "\n",
    "def reversed_enumerate(l):\n",
    "    return zip(range(len(l)-1, -1, -1), reversed(l))"
   ]
  },
  {
   "cell_type": "code",
   "execution_count": 8,
   "metadata": {},
   "outputs": [],
   "source": [
    "def Hochberg(p_val, alpha, m):\n",
    "    order = p_val.argsort()\n",
    "    p_val.sort()\n",
    "\n",
    "    for i,p in reversed_enumerate(p_val):\n",
    "        if(p <= (alpha/(m - i + 1))):\n",
    "            break\n",
    "\n",
    "        idx_reject = order[:(i+1)]\n",
    "\n",
    "    return idx_reject"
   ]
  },
  {
   "cell_type": "code",
   "execution_count": 9,
   "metadata": {},
   "outputs": [
    {
     "data": {
      "text/plain": [
       "array([ 8, 30, 31, 12,  5, 32,  7,  6, 20, 19], dtype=int64)"
      ]
     },
     "execution_count": 9,
     "metadata": {},
     "output_type": "execute_result"
    }
   ],
   "source": [
    "indxs = Hochberg(p_val_func, alpha = 0.05, m = 35)\n",
    "indxs"
   ]
  },
  {
   "cell_type": "code",
   "execution_count": 10,
   "metadata": {},
   "outputs": [
    {
     "name": "stdout",
     "output_type": "stream",
     "text": [
      "Zona: 1\tBanda: 3\n",
      "Zona: 6\tBanda: 0\n",
      "Zona: 6\tBanda: 1\n",
      "Zona: 2\tBanda: 2\n",
      "Zona: 1\tBanda: 0\n",
      "Zona: 6\tBanda: 2\n",
      "Zona: 1\tBanda: 2\n",
      "Zona: 1\tBanda: 1\n",
      "Zona: 4\tBanda: 0\n",
      "Zona: 3\tBanda: 4\n"
     ]
    }
   ],
   "source": [
    "# matrice_picco_adhd = np.empty((555,indxs.size))\n",
    "# matrice_picco_cont = np.empty((427,indxs.size))\n",
    "\n",
    "# salvo le features di mio interesse\n",
    "# della zona e banda di mio interesse devo avere vettore integrali di adhd e vettore integrali di control\n",
    "for i,indx in enumerate(indxs):\n",
    "    zona = indx//5\n",
    "    banda = indx - indx//5*5\n",
    "\n",
    "    # !!qui correggi, abbiamo già i dati, dobbiamo selezionare le colonne interessanti!!\n",
    "\n",
    "    # picco_adhd, picco_cont = Picco(canale=zona+1,  banda=banda+1, home_path=home_path)\n",
    "    # matrice_picco_adhd[:,i] = np.reshape(picco_adhd, (555,))\n",
    "    # matrice_picco_cont[:,i] = np.reshape(picco_cont, (427,))\n",
    "    \n",
    "    print('Zona: '+str(zona)+'\\tBanda: '+str(banda))\n"
   ]
  },
  {
   "cell_type": "code",
   "execution_count": 11,
   "metadata": {},
   "outputs": [],
   "source": [
    "def Holm(p_val, alpha, m):\n",
    "    order = p_val.argsort()\n",
    "    p_val.sort()\n",
    "    idx_reject=[]\n",
    "    for i,p in enumerate(p_val):\n",
    "        if(p <= (alpha/(m - i + 1))):\n",
    "            idx_reject.append(order[i])\n",
    "\n",
    "    return idx_reject"
   ]
  },
  {
   "cell_type": "code",
   "execution_count": 12,
   "metadata": {},
   "outputs": [],
   "source": [
    "func_p_val = pd.read_csv(\"p_val_functional.csv\", sep = ',',index_col=False)\n",
    "func_p_val = func_p_val.iloc[:,1:6]\n",
    "p_val_func = func_p_val.to_numpy()\n",
    "p_val_func = p_val_func.flatten()"
   ]
  },
  {
   "cell_type": "code",
   "execution_count": 13,
   "metadata": {},
   "outputs": [
    {
     "data": {
      "text/plain": [
       "[8, 30, 31, 12, 5, 32, 7, 6, 20]"
      ]
     },
     "execution_count": 13,
     "metadata": {},
     "output_type": "execute_result"
    }
   ],
   "source": [
    "indxs = Holm(p_val_func, alpha = 0.05, m = 35)\n",
    "indxs"
   ]
  },
  {
   "cell_type": "code",
   "execution_count": 14,
   "metadata": {},
   "outputs": [
    {
     "name": "stdout",
     "output_type": "stream",
     "text": [
      "Zona: 1\tBanda: 3\n",
      "Zona: 6\tBanda: 0\n",
      "Zona: 6\tBanda: 1\n",
      "Zona: 2\tBanda: 2\n",
      "Zona: 1\tBanda: 0\n",
      "Zona: 6\tBanda: 2\n",
      "Zona: 1\tBanda: 2\n",
      "Zona: 1\tBanda: 1\n",
      "Zona: 4\tBanda: 0\n"
     ]
    }
   ],
   "source": [
    "# matrice_picco_adhd = np.empty((555,indxs.size))\n",
    "# matrice_picco_cont = np.empty((427,indxs.size))\n",
    "\n",
    "# salvo le features di mio interesse\n",
    "# della zona e banda di mio interesse devo avere vettore integrali di adhd e vettore integrali di control\n",
    "for i,indx in enumerate(indxs):\n",
    "    zona = indx//5\n",
    "    banda = indx - indx//5*5\n",
    "\n",
    "    # !!qui correggi, abbiamo già i dati, dobbiamo selezionare le colonne interessanti!!\n",
    "\n",
    "    # picco_adhd, picco_cont = Picco(canale=zona+1,  banda=banda+1, home_path=home_path)\n",
    "    # matrice_picco_adhd[:,i] = np.reshape(picco_adhd, (555,))\n",
    "    # matrice_picco_cont[:,i] = np.reshape(picco_cont, (427,))\n",
    "    \n",
    "    print('Zona: '+str(zona)+'\\tBanda: '+str(banda))\n"
   ]
  },
  {
   "cell_type": "code",
   "execution_count": 15,
   "metadata": {},
   "outputs": [
    {
     "data": {
      "text/plain": [
       "array([5.286e-01, 4.052e-01, 3.312e-01, 1.022e-01, 2.952e-01, 4.540e-02,\n",
       "       3.940e-02, 2.000e-04, 2.000e-04, 2.352e-01, 4.528e-01, 5.666e-01,\n",
       "       1.252e-01, 1.166e-01, 7.752e-01, 6.408e-01, 5.594e-01, 6.018e-01,\n",
       "       7.280e-02, 1.400e-03, 3.272e-01, 2.708e-01, 1.088e-01, 2.588e-01,\n",
       "       2.240e-02, 1.526e-01, 9.322e-01, 3.024e-01, 2.476e-01, 4.560e-02,\n",
       "       2.000e-04, 2.000e-04, 3.200e-03, 3.040e-02, 4.020e-01, 6.820e-01,\n",
       "       6.504e-01, 3.608e-01, 1.180e-02, 3.410e-01, 2.000e-04, 1.200e-03,\n",
       "       2.000e-04, 2.000e-04, 1.232e-01, 2.532e-01, 1.022e-01, 2.542e-01,\n",
       "       2.148e-01, 4.512e-01, 8.926e-01, 8.962e-01, 1.468e-01, 5.260e-02,\n",
       "       1.600e-03, 2.040e-02, 2.140e-01, 1.850e-01, 2.968e-01, 4.100e-02,\n",
       "       6.058e-01, 6.200e-02, 4.740e-01, 3.442e-01, 6.560e-02, 2.000e-04,\n",
       "       2.000e-04, 6.200e-03, 1.640e-02, 9.768e-01, 7.554e-01, 2.928e-01,\n",
       "       1.538e-01, 2.900e-02, 2.234e-01, 8.800e-02, 1.310e-01, 4.000e-04,\n",
       "       2.000e-04, 9.514e-01, 2.384e-01, 4.092e-01, 7.544e-01, 9.780e-02,\n",
       "       7.872e-01, 9.306e-01, 5.938e-01, 4.330e-01, 5.060e-02, 4.000e-04,\n",
       "       3.982e-01, 7.732e-01, 2.830e-01, 1.536e-01, 2.100e-02, 2.098e-01,\n",
       "       9.840e-01, 9.844e-01, 7.440e-01, 3.100e-02, 2.000e-04, 2.000e-04,\n",
       "       1.500e-02, 3.000e-03, 1.934e-01])"
      ]
     },
     "execution_count": 15,
     "metadata": {},
     "output_type": "execute_result"
    }
   ],
   "source": [
    "p_val_feat=np.concatenate((p_val_int, p_val_norm, p_val_picco), axis=None)\n",
    "p_val_feat"
   ]
  },
  {
   "cell_type": "code",
   "execution_count": 16,
   "metadata": {},
   "outputs": [
    {
     "data": {
      "text/plain": [
       "array([ 78,  31,  30,  65,  40,  42,   8,  66,  43, 101,   7, 100,  77,\n",
       "        89,  41], dtype=int64)"
      ]
     },
     "execution_count": 16,
     "metadata": {},
     "output_type": "execute_result"
    }
   ],
   "source": [
    "indxs = Hochberg(p_val_feat, alpha = 0.05, m = 35*3)\n",
    "indxs"
   ]
  },
  {
   "cell_type": "code",
   "execution_count": 17,
   "metadata": {},
   "outputs": [
    {
     "name": "stdout",
     "output_type": "stream",
     "text": [
      "Feature: Picco\tZona: 1\tBanda: 3\n",
      "Feature: Int\tZona: 6\tBanda: 1\n",
      "Feature: Int\tZona: 6\tBanda: 0\n",
      "Feature: Norm\tZona: 6\tBanda: 0\n",
      "Feature: Norm\tZona: 1\tBanda: 0\n",
      "Feature: Norm\tZona: 1\tBanda: 2\n",
      "Feature: Int\tZona: 1\tBanda: 3\n",
      "Feature: Norm\tZona: 6\tBanda: 1\n",
      "Feature: Norm\tZona: 1\tBanda: 3\n",
      "Feature: Picco\tZona: 6\tBanda: 1\n",
      "Feature: Int\tZona: 1\tBanda: 2\n",
      "Feature: Picco\tZona: 6\tBanda: 0\n",
      "Feature: Picco\tZona: 1\tBanda: 2\n",
      "Feature: Picco\tZona: 3\tBanda: 4\n",
      "Feature: Norm\tZona: 1\tBanda: 1\n"
     ]
    }
   ],
   "source": [
    "# matrice_picco_adhd = np.empty((555,indxs.size))\n",
    "# matrice_picco_cont = np.empty((427,indxs.size))\n",
    "\n",
    "# salvo le features di mio interesse\n",
    "# della zona e banda di mio interesse devo avere vettore integrali di adhd e vettore integrali di control\n",
    "for i,indx in enumerate(indxs):\n",
    "    feature = indx//35\n",
    "    zona = (indx-35*feature)//5\n",
    "    banda = (indx-35*feature) - (indx-35*feature)//5*5\n",
    "    \n",
    "    feat=['Int', 'Norm', 'Picco']\n",
    "    # !!qui correggi, abbiamo già i dati, dobbiamo selezionare le colonne interessanti!!\n",
    "\n",
    "    # picco_adhd, picco_cont = Picco(canale=zona+1,  banda=banda+1, home_path=home_path)\n",
    "    # matrice_picco_adhd[:,i] = np.reshape(picco_adhd, (555,))\n",
    "    # matrice_picco_cont[:,i] = np.reshape(picco_cont, (427,))\n",
    "    \n",
    "    print('Feature: ' + feat[feature]+'\\tZona: '+str(zona)+'\\tBanda: '+str(banda))"
   ]
  },
  {
   "cell_type": "code",
   "execution_count": 18,
   "metadata": {},
   "outputs": [],
   "source": [
    "p_val_feat=np.concatenate((p_val_int, p_val_norm, p_val_picco), axis=None)"
   ]
  },
  {
   "cell_type": "code",
   "execution_count": 19,
   "metadata": {},
   "outputs": [
    {
     "data": {
      "text/plain": [
       "[78, 31, 30, 65, 40, 42, 8, 66, 43, 101, 7, 100, 77, 89]"
      ]
     },
     "execution_count": 19,
     "metadata": {},
     "output_type": "execute_result"
    }
   ],
   "source": [
    "indxs = Holm(p_val_feat, alpha = 0.05, m = 35*3)\n",
    "indxs"
   ]
  },
  {
   "cell_type": "code",
   "execution_count": 20,
   "metadata": {},
   "outputs": [
    {
     "name": "stdout",
     "output_type": "stream",
     "text": [
      "Feature: Picco\tZona: 1\tBanda: 3\n",
      "Feature: Int\tZona: 6\tBanda: 1\n",
      "Feature: Int\tZona: 6\tBanda: 0\n",
      "Feature: Norm\tZona: 6\tBanda: 0\n",
      "Feature: Norm\tZona: 1\tBanda: 0\n",
      "Feature: Norm\tZona: 1\tBanda: 2\n",
      "Feature: Int\tZona: 1\tBanda: 3\n",
      "Feature: Norm\tZona: 6\tBanda: 1\n",
      "Feature: Norm\tZona: 1\tBanda: 3\n",
      "Feature: Picco\tZona: 6\tBanda: 1\n",
      "Feature: Int\tZona: 1\tBanda: 2\n",
      "Feature: Picco\tZona: 6\tBanda: 0\n",
      "Feature: Picco\tZona: 1\tBanda: 2\n",
      "Feature: Picco\tZona: 3\tBanda: 4\n"
     ]
    }
   ],
   "source": [
    "# matrice_picco_adhd = np.empty((555,indxs.size))\n",
    "# matrice_picco_cont = np.empty((427,indxs.size))\n",
    "\n",
    "# salvo le features di mio interesse\n",
    "# della zona e banda di mio interesse devo avere vettore integrali di adhd e vettore integrali di control\n",
    "for i,indx in enumerate(indxs):\n",
    "    feature = indx//35\n",
    "    zona = (indx-35*feature)//5\n",
    "    banda = (indx-35*feature) - (indx-35*feature)//5*5\n",
    "    \n",
    "    feat=['Int', 'Norm', 'Picco']\n",
    "    # !!qui correggi, abbiamo già i dati, dobbiamo selezionare le colonne interessanti!!\n",
    "\n",
    "    # picco_adhd, picco_cont = Picco(canale=zona+1,  banda=banda+1, home_path=home_path)\n",
    "    # matrice_picco_adhd[:,i] = np.reshape(picco_adhd, (555,))\n",
    "    # matrice_picco_cont[:,i] = np.reshape(picco_cont, (427,))\n",
    "    \n",
    "    print('Feature: ' + feat[feature]+'\\tZona: '+str(zona)+'\\tBanda: '+str(banda))"
   ]
  },
  {
   "cell_type": "code",
   "execution_count": null,
   "metadata": {},
   "outputs": [],
   "source": []
  }
 ],
 "metadata": {
  "kernelspec": {
   "display_name": "Python 3 (ipykernel)",
   "language": "python",
   "name": "python3"
  },
  "language_info": {
   "codemirror_mode": {
    "name": "ipython",
    "version": 3
   },
   "file_extension": ".py",
   "mimetype": "text/x-python",
   "name": "python",
   "nbconvert_exporter": "python",
   "pygments_lexer": "ipython3",
   "version": "3.8.13"
  },
  "vscode": {
   "interpreter": {
    "hash": "532c0ad4d7e0572bfd0188361c6d99f4735bba3972b8cb24208c1b963abc683b"
   }
  }
 },
 "nbformat": 4,
 "nbformat_minor": 2
}
